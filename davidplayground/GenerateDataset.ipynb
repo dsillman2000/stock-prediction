{
 "cells": [
  {
   "cell_type": "code",
   "execution_count": 14,
   "id": "c5bfe0e4",
   "metadata": {},
   "outputs": [],
   "source": [
    "import sys\n",
    "sys.path.append('C:/Users/dsill/Desktop/stock-prediction')\n",
    "from davidplayground.datasets import *\n",
    "import pandas as pd\n",
    "from sklearn.preprocessing import MinMaxScaler\n",
    "import numpy as np\n",
    "import matplotlib.pyplot as plt\n",
    "import seaborn as sns\n",
    "from PIL import Image\n",
    "sns.set()"
   ]
  },
  {
   "cell_type": "code",
   "execution_count": 6,
   "id": "72cbc06e",
   "metadata": {},
   "outputs": [],
   "source": [
    "grt = CoinDataset(name=\"GRT\")\n",
    "grtdf = grt.get(start=\"2020-12-31\", end=\"2021-08-28\", granularity=300)"
   ]
  },
  {
   "cell_type": "code",
   "execution_count": 31,
   "id": "2efe17bc",
   "metadata": {},
   "outputs": [
    {
     "name": "stdout",
     "output_type": "stream",
     "text": [
      "5543 5543\n"
     ]
    }
   ],
   "source": [
    "\"\"\"\n",
    "Data Prep: \n",
    "* For each day, Z-normalize the prices.\n",
    "    * For each hour within each day, save the last hour's prices as a window.\n",
    "    * If the price will rise by the next hour, classify as +1 and -1 if it decreases.\n",
    "\"\"\"\n",
    "prices = ['open', 'high', 'low', 'close']\n",
    "dataset = []\n",
    "classes = []\n",
    "for d in range(len(grtdf) // (12*24)):\n",
    "    daystart = d * (12*24)\n",
    "    daydata = grtdf.loc[daystart:daystart+12*24,prices]\n",
    "    hourdata = np.zeros((23,12,4))\n",
    "    hourclas = np.zeros((23,1))\n",
    "    for h in range(0, 23):\n",
    "        row = daydata.iloc[h*12:(h+1)*12,:].values\n",
    "        nextrow = daydata.iloc[(h+1)*12:min((h+2)*12, len(daydata)),:].values\n",
    "        hourdata[h] = row\n",
    "        hourclas[h] = 1 if nextrow[-1,3] > row[-1,3] else -1\n",
    "    hourdata_scaled = MinMaxScaler().fit_transform(hourdata.flatten().reshape(-1,1)).reshape(hourdata.shape)\n",
    "    dataset.extend(hourdata_scaled)\n",
    "    classes.extend(hourclas)\n",
    "dataset = np.array(dataset)\n",
    "classes = np.array(classes)\n",
    "print(len(dataset), len(classes))"
   ]
  },
  {
   "cell_type": "code",
   "execution_count": 33,
   "id": "99ee6fe7",
   "metadata": {},
   "outputs": [],
   "source": [
    "data = []\n",
    "for i in range(len(dataset)):\n",
    "    hexhash = hex(hash(str(dataset[i])))\n",
    "    hexhash = hexhash[hexhash.rfind('x')+1:]\n",
    "    img = Image.fromarray(dataset[i].T*1.0)\n",
    "    imgpath = f'dataset/images/{hexhash}.tiff'\n",
    "    img.save(imgpath)\n",
    "    data.append({'name':imgpath, 'class':classes[i][0]})\n",
    "datadf = pd.DataFrame(data)\n",
    "datadf.to_csv('dataset/dataset.csv', index=False)"
   ]
  },
  {
   "cell_type": "code",
   "execution_count": 23,
   "id": "e211b1c5",
   "metadata": {},
   "outputs": [],
   "source": []
  }
 ],
 "metadata": {
  "kernelspec": {
   "display_name": "Python 3 (Spyder)",
   "language": "python3",
   "name": "python3"
  },
  "language_info": {
   "codemirror_mode": {
    "name": "ipython",
    "version": 3
   },
   "file_extension": ".py",
   "mimetype": "text/x-python",
   "name": "python",
   "nbconvert_exporter": "python",
   "pygments_lexer": "ipython3",
   "version": "3.9.6"
  }
 },
 "nbformat": 4,
 "nbformat_minor": 5
}
